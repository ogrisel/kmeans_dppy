{
 "cells": [
  {
   "cell_type": "markdown",
   "source": [
    "# Implementing K-Means on various Intel Hardware"
   ],
   "metadata": {}
  },
  {
   "cell_type": "markdown",
   "source": [
    "## Hardware environment"
   ],
   "metadata": {}
  },
  {
   "cell_type": "code",
   "execution_count": 20,
   "source": [
    "import numba_dppy as dppy\n",
    "import dpctl\n",
    "import numpy as np\n",
    "\n",
    "\n",
    "gpu = dpctl.select_gpu_device()\n",
    "print(gpu.name)"
   ],
   "outputs": [
    {
     "output_type": "stream",
     "name": "stdout",
     "text": [
      "Intel(R) UHD Graphics P630 [0x3e96]\n"
     ]
    }
   ],
   "metadata": {}
  },
  {
   "cell_type": "code",
   "execution_count": 21,
   "source": [
    "cpu = dpctl.select_cpu_device()\n",
    "print(cpu.name)"
   ],
   "outputs": [
    {
     "output_type": "stream",
     "name": "stdout",
     "text": [
      "Intel(R) Xeon(R) E-2176G CPU @ 3.70GHz\n"
     ]
    }
   ],
   "metadata": {}
  },
  {
   "cell_type": "code",
   "execution_count": 22,
   "source": [
    "from joblib import cpu_count\n",
    "\n",
    "\n",
    "print(f\"{cpu_count(only_physical_cores=True)} CPU cores, {cpu_count()} CPU threads\")"
   ],
   "outputs": [
    {
     "output_type": "stream",
     "name": "stdout",
     "text": [
      "6 CPU cores, 12 CPU threads\n"
     ]
    }
   ],
   "metadata": {}
  },
  {
   "cell_type": "markdown",
   "source": [
    "## Data"
   ],
   "metadata": {}
  },
  {
   "cell_type": "code",
   "execution_count": 23,
   "source": [
    "rng = np.random.RandomState(42)\n",
    "data = rng.normal(size=(1_000_000, 100)).astype(np.float32)\n",
    "cluster_indices = np.zeros(shape=data.shape[0], dtype=np.int32)\n",
    "centroids = data[rng.choice(np.arange(data.shape[0]), 100)]\n",
    "print(f\"data size: {data.nbytes / 1e6} MB\")"
   ],
   "outputs": [
    {
     "output_type": "stream",
     "name": "stdout",
     "text": [
      "data size: 400.0 MB\n"
     ]
    }
   ],
   "metadata": {}
  },
  {
   "cell_type": "code",
   "execution_count": 24,
   "source": [
    "# The following way to device allocate the USM arrays is currently not\n",
    "# supported: it would make the numba_dppy kernel compiler raise a\n",
    "# NotImplementedError.\n",
    "\n",
    "# import dpctl.tensor as dpt\n",
    "# \n",
    "# def convert_to_usm(data, buffer=\"shared\"):\n",
    "#     data_usm = dpt.usm_ndarray(data.shape, dtype=data.dtype, buffer=buffer)\n",
    "#     data_usm.usm_data.copy_from_host(data.ravel().view(\"u1\"))\n",
    "#     return data_usm"
   ],
   "outputs": [],
   "metadata": {}
  },
  {
   "cell_type": "code",
   "execution_count": 25,
   "source": [
    "import dpctl.memory as dpmem\n",
    "\n",
    "\n",
    "def convert_to_usm(data, buffer=\"shared\"):\n",
    "    data_usm = dpmem.MemoryUSMShared(data.nbytes)\n",
    "    data_usm.copy_from_host(data.ravel().view(\"u1\"))\n",
    "    return np.ndarray(data.shape, buffer=data_usm, dtype=data.dtype)\n",
    "\n",
    "\n",
    "with dpctl.device_context(gpu):\n",
    "    data_usm = convert_to_usm(data)\n",
    "    centroids_usm = convert_to_usm(centroids)\n",
    "    cluster_indices_usm = convert_to_usm(cluster_indices)"
   ],
   "outputs": [],
   "metadata": {}
  },
  {
   "cell_type": "code",
   "execution_count": 26,
   "source": [
    "assert data_usm.base.sycl_device == gpu"
   ],
   "outputs": [],
   "metadata": {}
  },
  {
   "cell_type": "markdown",
   "source": [
    "## Numba DPPY / GPU implementation of the main k-means kernel"
   ],
   "metadata": {}
  },
  {
   "cell_type": "code",
   "execution_count": 27,
   "source": [
    "def make_dppy_kernel(n_samples, n_features, n_centroids):\n",
    "    @dppy.kernel\n",
    "    def assign(data, cluster_indices, centroids):\n",
    "        sample_idx = dppy.get_global_id(0)\n",
    "        if sample_idx < n_samples:\n",
    "            min_dist = -1\n",
    "            for centroid_idx in range(n_centroids):\n",
    "                dist = 0.0\n",
    "                for feature_idx in range(n_features):\n",
    "                    dist += (\n",
    "                        data[sample_idx, feature_idx]\n",
    "                        - centroids[centroid_idx, feature_idx]\n",
    "                    ) ** 2\n",
    "                if min_dist > dist or min_dist < 0:\n",
    "                    min_dist = dist\n",
    "                    cluster_indices[sample_idx] = centroid_idx\n",
    "\n",
    "    return assign\n",
    "\n",
    "\n",
    "assign_dppy_gpu = make_dppy_kernel(data_usm.shape[0], data_usm.shape[1], centroids_usm.shape[0])"
   ],
   "outputs": [],
   "metadata": {}
  },
  {
   "cell_type": "code",
   "execution_count": 28,
   "source": [
    "from time import perf_counter\n",
    "\n",
    "\n",
    "def timeit(func, *args, n_repeats=5, verbose=True, **kwargs):\n",
    "    times = []\n",
    "    for _ in range(n_repeats):\n",
    "        tic = perf_counter()\n",
    "        func(*args, **kwargs)\n",
    "        times.append(perf_counter() - tic)\n",
    "        if verbose:\n",
    "            print(\".\", end=\"\", flush=True)\n",
    "    mean_time = np.mean(times)\n",
    "    if verbose:\n",
    "        print(f\"\\naverage per call duration: {np.mean(times):.3f}s\")\n",
    "    return mean_time"
   ],
   "outputs": [],
   "metadata": {}
  },
  {
   "cell_type": "code",
   "execution_count": 29,
   "source": [
    "with dpctl.device_context(gpu):\n",
    "    assign_dppy_gpu_time = timeit(\n",
    "        assign_dppy_gpu[data.shape[0], dppy.DEFAULT_LOCAL_SIZE],\n",
    "        data_usm,\n",
    "        cluster_indices_usm,\n",
    "        centroids_usm,\n",
    "    )"
   ],
   "outputs": [
    {
     "output_type": "stream",
     "name": "stdout",
     "text": [
      ".....\n",
      "average per call duration: 1.105s\n"
     ]
    }
   ],
   "metadata": {}
  },
  {
   "cell_type": "code",
   "execution_count": 30,
   "source": [
    "cluster_indices_usm"
   ],
   "outputs": [
    {
     "output_type": "execute_result",
     "data": {
      "text/plain": [
       "array([46, 56,  1, ..., 76, 38, 56], dtype=int32)"
      ]
     },
     "metadata": {},
     "execution_count": 30
    }
   ],
   "metadata": {}
  },
  {
   "cell_type": "code",
   "execution_count": 31,
   "source": [
    "assert cluster_indices_usm.base.sycl_device == gpu"
   ],
   "outputs": [],
   "metadata": {}
  },
  {
   "cell_type": "markdown",
   "source": [
    "## Numba DPPY / CPU implementation of the main k-means kernel (broken)"
   ],
   "metadata": {}
  },
  {
   "cell_type": "code",
   "execution_count": 32,
   "source": [
    "with dpctl.device_context(cpu):\n",
    "    data_usm_cpu = convert_to_usm(data)\n",
    "    centroids_usm_cpu = convert_to_usm(centroids)\n",
    "    cluster_indices_usm_cpu = convert_to_usm(cluster_indices)\n",
    "\n",
    "    assign_dppy_cpu = make_dppy_kernel(\n",
    "        data_usm_cpu.shape[0],\n",
    "        centroids_usm_cpu.shape[1],\n",
    "        cluster_indices_usm_cpu.shape[0],\n",
    "    )"
   ],
   "outputs": [],
   "metadata": {}
  },
  {
   "cell_type": "code",
   "execution_count": 33,
   "source": [
    "# The following does not work and crashes the jupyter kernel:\n",
    "\n",
    "# with dpctl.device_context(cpu):\n",
    "#     assign_dppy_cpu_time = timeit(\n",
    "#         assign_dppy_cpu[data.shape[0], dppy.DEFAULT_LOCAL_SIZE],\n",
    "#         data_usm_cpu,\n",
    "#         centroids_usm_cpu,\n",
    "#         cluster_indices_usm_cpu,\n",
    "#     )"
   ],
   "outputs": [],
   "metadata": {}
  },
  {
   "cell_type": "markdown",
   "source": [
    "## Numba CPU implementation of the main k-means kernel"
   ],
   "metadata": {}
  },
  {
   "cell_type": "code",
   "execution_count": 34,
   "source": [
    "import numba\n",
    "\n",
    "\n",
    "# numba.config.THREADING_LAYER = 'omp'  # similar speed as 'tbb'\n",
    "\n",
    "\n",
    "def make_numba_kernel(n_samples, n_features, n_centroids):\n",
    "    @numba.njit(parallel=True)\n",
    "    def assign(data, cluster_indices, centroids):\n",
    "        for sample_idx in numba.prange(n_samples):\n",
    "            min_dist = -1\n",
    "            for centroid_idx in range(n_centroids):\n",
    "                dist = 0.0\n",
    "                for feature_idx in range(n_features):\n",
    "                    dist += (\n",
    "                        data[sample_idx, feature_idx]\n",
    "                        - centroids[centroid_idx, feature_idx]\n",
    "                    ) ** 2\n",
    "                if min_dist > dist or min_dist < 0:\n",
    "                    min_dist = dist\n",
    "                    cluster_indices[sample_idx] = centroid_idx\n",
    "\n",
    "    return assign\n",
    "\n",
    "assign_numba = make_numba_kernel(data.shape[0], data.shape[1], centroids.shape[0])"
   ],
   "outputs": [],
   "metadata": {}
  },
  {
   "cell_type": "code",
   "execution_count": 35,
   "source": [
    "assign_numba_cpu_time = timeit(assign_numba, data, cluster_indices, centroids)"
   ],
   "outputs": [
    {
     "output_type": "stream",
     "name": "stdout",
     "text": [
      ".....\n",
      "average per call duration: 2.776s\n"
     ]
    }
   ],
   "metadata": {}
  },
  {
   "cell_type": "code",
   "execution_count": 36,
   "source": [
    "np.testing.assert_array_equal(cluster_indices, cluster_indices_usm)"
   ],
   "outputs": [],
   "metadata": {}
  },
  {
   "cell_type": "code",
   "execution_count": 37,
   "source": [
    "print(f\"Threading: {numba.threading_layer()} with {numba.get_num_threads()} threads\")"
   ],
   "outputs": [
    {
     "output_type": "stream",
     "name": "stdout",
     "text": [
      "Threading: tbb with 12 threads\n"
     ]
    }
   ],
   "metadata": {}
  },
  {
   "cell_type": "code",
   "execution_count": 38,
   "source": [
    "print(\n",
    "    f\"dppy-GPU vs numba-CPU speed-up: \"\n",
    "    f\"{assign_numba_cpu_time / assign_dppy_gpu_time:.1f}x\"\n",
    ")"
   ],
   "outputs": [
    {
     "output_type": "stream",
     "name": "stdout",
     "text": [
      "dppy-GPU vs numba-CPU speed-up: 2.5x\n"
     ]
    }
   ],
   "metadata": {}
  }
 ],
 "metadata": {
  "orig_nbformat": 4,
  "language_info": {
   "name": "python"
  }
 },
 "nbformat": 4,
 "nbformat_minor": 2
}